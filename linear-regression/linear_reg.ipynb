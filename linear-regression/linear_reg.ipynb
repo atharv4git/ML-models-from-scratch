{
 "cells": [
  {
   "cell_type": "code",
   "execution_count": 39,
   "id": "fcc696f6",
   "metadata": {},
   "outputs": [],
   "source": [
    "import seaborn as sns\n",
    "import numpy as np\n",
    "import pandas as pd\n",
    "import matplotlib.pyplot as plt\n",
    "import warnings\n",
    "warnings.simplefilter('ignore')"
   ]
  },
  {
   "cell_type": "code",
   "execution_count": 60,
   "id": "3f7ea59f",
   "metadata": {},
   "outputs": [],
   "source": [
    "x = [1,2,3,4,5,6,7,8,9]\n",
    "y = [5,6,7,6,9,10,11,13,13]"
   ]
  },
  {
   "cell_type": "code",
   "execution_count": 61,
   "id": "8584b72f",
   "metadata": {},
   "outputs": [],
   "source": [
    "data = pd.DataFrame({\"X\":x,\"Y\":y})"
   ]
  },
  {
   "cell_type": "code",
   "execution_count": 62,
   "id": "c7344aa4",
   "metadata": {
    "scrolled": true
   },
   "outputs": [
    {
     "data": {
      "text/plain": [
       "<AxesSubplot:xlabel='X', ylabel='Y'>"
      ]
     },
     "execution_count": 62,
     "metadata": {},
     "output_type": "execute_result"
    },
    {
     "data": {
      "image/png": "[encoded data removed]",
      "text/plain": [
       "<Figure size 432x288 with 1 Axes>"
      ]
     },
     "metadata": {
      "needs_background": "light"
     },
     "output_type": "display_data"
    }
   ],
   "source": [
    "sns.scatterplot(data[\"X\"],data[\"Y\"])"
   ]
  },
  {
   "cell_type": "code",
   "execution_count": 119,
   "id": "c37fc19b",
   "metadata": {},
   "outputs": [],
   "source": [
    "def linear_func(x:list,y:list,xin):\n",
    "    x1,x2 = min(x),max(x)\n",
    "    y1,y2 = min(y),max(y)\n",
    "    intercept = y[0]\n",
    "    slope = (y2-y1)/(x2-x1)\n",
    "#     print(f\"slope = {slope}\")\n",
    "    y = slope*xin + intercept\n",
    "#     print(y)\n",
    "    return y"
   ]
  },
  {
   "cell_type": "code",
   "execution_count": 116,
   "id": "04a9aa3a",
   "metadata": {},
   "outputs": [
    {
     "name": "stdout",
     "output_type": "stream",
     "text": [
      "slope = 1.0\n",
      "8.0\n"
     ]
    },
    {
     "data": {
      "text/plain": [
       "8.0"
      ]
     },
     "execution_count": 116,
     "metadata": {},
     "output_type": "execute_result"
    }
   ],
   "source": [
    "linear_func(x,y,3)"
   ]
  },
  {
   "cell_type": "code",
   "execution_count": 122,
   "id": "ebc3ef75",
   "metadata": {},
   "outputs": [],
   "source": [
    "def linear_main(x:list,y:list):\n",
    "    yhats = []\n",
    "    for i in range(len(x)):\n",
    "        yhats.append(linear_func(x,y,i))\n",
    "    return yhats"
   ]
  },
  {
   "cell_type": "code",
   "execution_count": 70,
   "id": "6fb6639e",
   "metadata": {},
   "outputs": [
    {
     "name": "stdout",
     "output_type": "stream",
     "text": [
      "slope = 1.0\n",
      "5.0\n",
      "slope = 1.0\n",
      "6.0\n",
      "slope = 1.0\n",
      "7.0\n",
      "slope = 1.0\n",
      "8.0\n",
      "slope = 1.0\n",
      "9.0\n",
      "slope = 1.0\n",
      "10.0\n",
      "slope = 1.0\n",
      "11.0\n",
      "slope = 1.0\n",
      "12.0\n",
      "slope = 1.0\n",
      "13.0\n"
     ]
    },
    {
     "data": {
      "text/plain": [
       "[5.0, 6.0, 7.0, 8.0, 9.0, 10.0, 11.0, 12.0, 13.0]"
      ]
     },
     "execution_count": 70,
     "metadata": {},
     "output_type": "execute_result"
    }
   ],
   "source": [
    "linear_main(x)"
   ]
  },
  {
   "cell_type": "code",
   "execution_count": 76,
   "id": "95106daf",
   "metadata": {},
   "outputs": [],
   "source": [
    "def cost_function1(y:list,yhats:list):\n",
    "    residuals = []\n",
    "    residual_squares = []\n",
    "    for i in range(len(y)):\n",
    "        residual = y[i]-yhats[i]\n",
    "        residuals.append(residual)\n",
    "        if residual!=0:\n",
    "            residual_squares.append(residual**2)\n",
    "    return sum(residual_squares),residual_squares"
   ]
  },
  {
   "cell_type": "code",
   "execution_count": 72,
   "id": "5b927779",
   "metadata": {},
   "outputs": [
    {
     "data": {
      "text/plain": [
       "4"
      ]
     },
     "execution_count": 72,
     "metadata": {},
     "output_type": "execute_result"
    }
   ],
   "source": [
    "(-2)**2"
   ]
  },
  {
   "cell_type": "code",
   "execution_count": 77,
   "id": "b666d189",
   "metadata": {},
   "outputs": [
    {
     "name": "stdout",
     "output_type": "stream",
     "text": [
      "slope = 1.0\n",
      "5.0\n",
      "slope = 1.0\n",
      "6.0\n",
      "slope = 1.0\n",
      "7.0\n",
      "slope = 1.0\n",
      "8.0\n",
      "slope = 1.0\n",
      "9.0\n",
      "slope = 1.0\n",
      "10.0\n",
      "slope = 1.0\n",
      "11.0\n",
      "slope = 1.0\n",
      "12.0\n",
      "slope = 1.0\n",
      "13.0\n"
     ]
    },
    {
     "data": {
      "text/plain": [
       "(5.0, [4.0, 1.0])"
      ]
     },
     "execution_count": 77,
     "metadata": {},
     "output_type": "execute_result"
    }
   ],
   "source": [
    "yhats = linear_main(x)\n",
    "cost_function1(y,yhats)"
   ]
  },
  {
   "cell_type": "code",
   "execution_count": 100,
   "id": "3e577600",
   "metadata": {},
   "outputs": [],
   "source": [
    "def new_slope_and_intercept(x:list, y:list):\n",
    "    x_mean = np.mean(x)\n",
    "    y_mean = np.mean(y)\n",
    "    new_x = []\n",
    "    for i in range(len(x)):\n",
    "        temp = ((x[i]-x_mean)*(y[i]-y_mean))/(x[i]-x_mean)**2\n",
    "        print(temp)\n",
    "        if x[i]!=x_mean:\n",
    "            new_x.append(temp)\n",
    "    new_slope = sum(new_x)\n",
    "    new_intercept = y_mean-(new_slope*x_mean)\n",
    "    return new_slope,new_intercept"
   ]
  },
  {
   "cell_type": "code",
   "execution_count": 102,
   "id": "9c7c7891",
   "metadata": {},
   "outputs": [
    {
     "name": "stdout",
     "output_type": "stream",
     "text": [
      "0.9722222222222223\n",
      "0.9629629629629631\n",
      "0.9444444444444446\n",
      "2.8888888888888893\n",
      "nan\n",
      "1.1111111111111107\n",
      "1.0555555555555554\n",
      "1.3703703703703702\n",
      "1.0277777777777777\n"
     ]
    }
   ],
   "source": [
    "a,b = new_slope_and_intercept(x,y)"
   ]
  },
  {
   "cell_type": "code",
   "execution_count": 103,
   "id": "034cf141",
   "metadata": {},
   "outputs": [
    {
     "data": {
      "text/plain": [
       "(10.333333333333332, -42.77777777777777)"
      ]
     },
     "execution_count": 103,
     "metadata": {},
     "output_type": "execute_result"
    }
   ],
   "source": [
    "a,b"
   ]
  },
  {
   "cell_type": "code",
   "execution_count": 104,
   "id": "2df57721",
   "metadata": {},
   "outputs": [
    {
     "name": "stdout",
     "output_type": "stream",
     "text": [
      "-32.44444444444444\n",
      "-22.111111111111107\n",
      "-11.777777777777775\n",
      "-1.4444444444444429\n",
      "8.888888888888886\n",
      "19.22222222222222\n",
      "29.555555555555557\n",
      "39.888888888888886\n",
      "50.222222222222214\n"
     ]
    }
   ],
   "source": [
    "for i in x:\n",
    "    print(a*i+b)\n",
    "    "
   ]
  },
  {
   "cell_type": "code",
   "execution_count": 105,
   "id": "cee42419",
   "metadata": {},
   "outputs": [],
   "source": [
    "def linear_func2(x:list,y:list,xin):\n",
    "    slope,intercept = new_slope_and_intercept(x,y)\n",
    "#     print(f\"slope = {slope}\")\n",
    "    y = slope*xin + intercept\n",
    "#     print(y)\n",
    "    return y"
   ]
  },
  {
   "cell_type": "code",
   "execution_count": 106,
   "id": "a78f66ea",
   "metadata": {},
   "outputs": [],
   "source": [
    "def linear_main2(x:list):\n",
    "    yhats = []\n",
    "    for i in range(len(x)):\n",
    "        yhats.append(linear_func2(x,y,i))\n",
    "    return yhats"
   ]
  },
  {
   "cell_type": "code",
   "execution_count": 110,
   "id": "cc375d12",
   "metadata": {},
   "outputs": [
    {
     "name": "stdout",
     "output_type": "stream",
     "text": [
      "0.9722222222222223\n",
      "0.9629629629629631\n",
      "0.9444444444444446\n",
      "2.8888888888888893\n",
      "nan\n",
      "1.1111111111111107\n",
      "1.0555555555555554\n",
      "1.3703703703703702\n",
      "1.0277777777777777\n",
      "slope = 10.333333333333332\n",
      "-42.77777777777777\n",
      "0.9722222222222223\n",
      "0.9629629629629631\n",
      "0.9444444444444446\n",
      "2.8888888888888893\n",
      "nan\n",
      "1.1111111111111107\n",
      "1.0555555555555554\n",
      "1.3703703703703702\n",
      "1.0277777777777777\n",
      "slope = 10.333333333333332\n",
      "-32.44444444444444\n",
      "0.9722222222222223\n",
      "0.9629629629629631\n",
      "0.9444444444444446\n",
      "2.8888888888888893\n",
      "nan\n",
      "1.1111111111111107\n",
      "1.0555555555555554\n",
      "1.3703703703703702\n",
      "1.0277777777777777\n",
      "slope = 10.333333333333332\n",
      "-22.111111111111107\n",
      "0.9722222222222223\n",
      "0.9629629629629631\n",
      "0.9444444444444446\n",
      "2.8888888888888893\n",
      "nan\n",
      "1.1111111111111107\n",
      "1.0555555555555554\n",
      "1.3703703703703702\n",
      "1.0277777777777777\n",
      "slope = 10.333333333333332\n",
      "-11.777777777777775\n",
      "0.9722222222222223\n",
      "0.9629629629629631\n",
      "0.9444444444444446\n",
      "2.8888888888888893\n",
      "nan\n",
      "1.1111111111111107\n",
      "1.0555555555555554\n",
      "1.3703703703703702\n",
      "1.0277777777777777\n",
      "slope = 10.333333333333332\n",
      "-1.4444444444444429\n",
      "0.9722222222222223\n",
      "0.9629629629629631\n",
      "0.9444444444444446\n",
      "2.8888888888888893\n",
      "nan\n",
      "1.1111111111111107\n",
      "1.0555555555555554\n",
      "1.3703703703703702\n",
      "1.0277777777777777\n",
      "slope = 10.333333333333332\n",
      "8.888888888888886\n",
      "0.9722222222222223\n",
      "0.9629629629629631\n",
      "0.9444444444444446\n",
      "2.8888888888888893\n",
      "nan\n",
      "1.1111111111111107\n",
      "1.0555555555555554\n",
      "1.3703703703703702\n",
      "1.0277777777777777\n",
      "slope = 10.333333333333332\n",
      "19.22222222222222\n",
      "0.9722222222222223\n",
      "0.9629629629629631\n",
      "0.9444444444444446\n",
      "2.8888888888888893\n",
      "nan\n",
      "1.1111111111111107\n",
      "1.0555555555555554\n",
      "1.3703703703703702\n",
      "1.0277777777777777\n",
      "slope = 10.333333333333332\n",
      "29.555555555555557\n",
      "0.9722222222222223\n",
      "0.9629629629629631\n",
      "0.9444444444444446\n",
      "2.8888888888888893\n",
      "nan\n",
      "1.1111111111111107\n",
      "1.0555555555555554\n",
      "1.3703703703703702\n",
      "1.0277777777777777\n",
      "slope = 10.333333333333332\n",
      "39.888888888888886\n"
     ]
    }
   ],
   "source": [
    "yhats2 = linear_main2(x)"
   ]
  },
  {
   "cell_type": "code",
   "execution_count": 135,
   "id": "1d596b03",
   "metadata": {},
   "outputs": [
    {
     "data": {
      "text/plain": [
       "<AxesSubplot:>"
      ]
     },
     "execution_count": 135,
     "metadata": {},
     "output_type": "execute_result"
    },
    {
     "data": {
      "image/png": "[encoded data removed]",
      "text/plain": [
       "<Figure size 432x288 with 1 Axes>"
      ]
     },
     "metadata": {
      "needs_background": "light"
     },
     "output_type": "display_data"
    }
   ],
   "source": [
    "sns.scatterplot(x,yhats2)"
   ]
  },
  {
   "cell_type": "code",
   "execution_count": 114,
   "id": "90b2a50b",
   "metadata": {},
   "outputs": [
    {
     "data": {
      "text/plain": [
       "(6099.222222222221,\n",
       " [2282.7160493827155,\n",
       "  1477.9753086419753,\n",
       "  847.4567901234566,\n",
       "  316.0493827160493,\n",
       "  109.08641975308639,\n",
       "  1.234567901234575,\n",
       "  67.60493827160492,\n",
       "  274.0864197530865,\n",
       "  723.0123456790121])"
      ]
     },
     "execution_count": 114,
     "metadata": {},
     "output_type": "execute_result"
    }
   ],
   "source": [
    "cost_function1(y,yhats2)"
   ]
  },
  {
   "cell_type": "code",
   "execution_count": 117,
   "id": "4b3c6e3e",
   "metadata": {},
   "outputs": [
    {
     "name": "stdout",
     "output_type": "stream",
     "text": [
      "slope = 1.0278222565829809\n",
      "21.148696538205588\n"
     ]
    },
    {
     "data": {
      "text/plain": [
       "21.148696538205588"
      ]
     },
     "execution_count": 117,
     "metadata": {},
     "output_type": "execute_result"
    }
   ],
   "source": [
    "x_new = np.random.rand(20)\n",
    "y_new = np.random.rand(20)\n",
    "linear_func(x_new,y_new,20)"
   ]
  },
  {
   "cell_type": "code",
   "execution_count": 124,
   "id": "26c3d9c3",
   "metadata": {},
   "outputs": [],
   "source": [
    "yhats3 = linear_main(x_new,y_new)"
   ]
  },
  {
   "cell_type": "code",
   "execution_count": 125,
   "id": "a639f42c",
   "metadata": {},
   "outputs": [
    {
     "data": {
      "text/plain": [
       "(2668.293972934727,\n",
       " [1.8505053019618574,\n",
       "  3.484093136646878,\n",
       "  13.380953321048466,\n",
       "  14.068899253173722,\n",
       "  27.784394828834987,\n",
       "  36.786073962615,\n",
       "  57.51349671281598,\n",
       "  76.1088282236092,\n",
       "  88.26542776720588,\n",
       "  101.6220542764414,\n",
       "  129.33937997789434,\n",
       "  155.124400718049,\n",
       "  172.88790920964973,\n",
       "  218.6842358275304,\n",
       "  245.82525809956073,\n",
       "  276.1621211904523,\n",
       "  291.63106366647463,\n",
       "  355.9914018046925,\n",
       "  401.78347565607066])"
      ]
     },
     "execution_count": 125,
     "metadata": {},
     "output_type": "execute_result"
    }
   ],
   "source": [
    "cost_function1(y_new,yhats3)"
   ]
  },
  {
   "cell_type": "code",
   "execution_count": 129,
   "id": "53108aa6",
   "metadata": {},
   "outputs": [
    {
     "data": {
      "text/plain": [
       "<AxesSubplot:>"
      ]
     },
     "execution_count": 129,
     "metadata": {},
     "output_type": "execute_result"
    },
    {
     "data": {
      "image/png": "[encoded data removed]",
      "text/plain": [
       "<Figure size 432x288 with 1 Axes>"
      ]
     },
     "metadata": {
      "needs_background": "light"
     },
     "output_type": "display_data"
    }
   ],
   "source": [
    "sns.scatterplot(y,yhats)"
   ]
  },
  {
   "cell_type": "code",
   "execution_count": 132,
   "id": "2c301620",
   "metadata": {},
   "outputs": [
    {
     "data": {
      "text/plain": [
       "array([92.69912217])"
      ]
     },
     "execution_count": 132,
     "metadata": {},
     "output_type": "execute_result"
    }
   ],
   "source": [
    "np.correlate(y_new,yhats3)"
   ]
  },
  {
   "cell_type": "code",
   "execution_count": 137,
   "id": "7a817862",
   "metadata": {},
   "outputs": [
    {
     "name": "stdout",
     "output_type": "stream",
     "text": [
      "Estimated coefficients:\n",
      "b_0 = 5.381818181818182 \n",
      "b_1 = 0.5151515151515151\n"
     ]
    },
    {
     "data": {
      "image/png": "[encoded data removed]",
      "text/plain": [
       "<Figure size 432x288 with 1 Axes>"
      ]
     },
     "metadata": {
      "needs_background": "light"
     },
     "output_type": "display_data"
    }
   ],
   "source": [
    "import numpy as np\n",
    "import matplotlib.pyplot as plt\n",
    "\n",
    "def estimate_coef(x, y):\n",
    "    # number of observations/points\n",
    "    n = np.size(x)\n",
    "    # mean of x and y vector\n",
    "    m_x = np.mean(x)\n",
    "    m_y = np.mean(y)\n",
    "    # calculating cross-deviation and deviation about x\n",
    "    SS_xy = np.sum(y*x) - n*m_y*m_x\n",
    "    SS_xx = np.sum(x*x) - n*m_x*m_x\n",
    "    # calculating regression coefficients\n",
    "    b_1 = SS_xy / SS_xx\n",
    "    b_0 = m_y - b_1*m_x\n",
    "    return (b_0, b_1)\n",
    "\n",
    "def plot_regression_line(x, y, b):\n",
    "    # plotting the actual points as a scatter plot\n",
    "    plt.scatter(x, y, color = \"m\",\n",
    "    marker = \"o\", s = 30)\n",
    "    # predicted response vector\n",
    "    y_pred = b[0] + b[1]*x\n",
    "    # plotting the regression line\n",
    "    plt.plot(x, y_pred, color = \"g\")\n",
    "    # putting labels\n",
    "    plt.xlabel('x')\n",
    "    plt.ylabel('y')\n",
    "    # function to show plot\n",
    "    plt.show()\n",
    "\n",
    "# observations / data\n",
    "x = np.array([0, 1, 2, 3, 4, 5, 6, 7, 8, 9])\n",
    "y = np.array([13, 3, 2, 5, 7, 8, 8, 9, 10, 12])\n",
    "# estimating coefficients\n",
    "b = estimate_coef(x, y)\n",
    "print(\"Estimated coefficients:\\nb_0 = {} \\\n",
    "\\nb_1 = {}\".format(b[0], b[1]))\n",
    "# plotting regression line\n",
    "plot_regression_line(x, y, b)"
   ]
  },
  {
   "cell_type": "code",
   "execution_count": null,
   "id": "c45521ca",
   "metadata": {},
   "outputs": [],
   "source": [
    "# Simple Linear Regression on the Swedish Insurance Dataset\n",
    "from random import seed\n",
    "from random import randrange\n",
    "from csv import reader\n",
    "from math import sqrt\n",
    "\n",
    "# Load a CSV file\n",
    "def load_csv(filename):\n",
    "\tdataset = list()\n",
    "\twith open(filename, 'r') as file:\n",
    "\t\tcsv_reader = reader(file)\n",
    "\t\tfor row in csv_reader:\n",
    "\t\t\tif not row:\n",
    "\t\t\t\tcontinue\n",
    "\t\t\tdataset.append(row)\n",
    "\treturn dataset\n",
    "\n",
    "# Convert string column to float\n",
    "def str_column_to_float(dataset, column):\n",
    "\tfor row in dataset:\n",
    "\t\trow[column] = float(row[column].strip())\n",
    "\n",
    "# Split a dataset into a train and test set\n",
    "def train_test_split(dataset, split):\n",
    "\ttrain = list()\n",
    "\ttrain_size = split * len(dataset)\n",
    "\tdataset_copy = list(dataset)\n",
    "\twhile len(train) < train_size:\n",
    "\t\tindex = randrange(len(dataset_copy))\n",
    "\t\ttrain.append(dataset_copy.pop(index))\n",
    "\treturn train, dataset_copy\n",
    "\n",
    "# Calculate root mean squared error\n",
    "def rmse_metric(actual, predicted):\n",
    "\tsum_error = 0.0\n",
    "\tfor i in range(len(actual)):\n",
    "\t\tprediction_error = predicted[i] - actual[i]\n",
    "\t\tsum_error += (prediction_error ** 2)\n",
    "\tmean_error = sum_error / float(len(actual))\n",
    "\treturn sqrt(mean_error)\n",
    "\n",
    "# Evaluate an algorithm using a train/test split\n",
    "def evaluate_algorithm(dataset, algorithm, split, *args):\n",
    "\ttrain, test = train_test_split(dataset, split)\n",
    "\ttest_set = list()\n",
    "\tfor row in test:\n",
    "\t\trow_copy = list(row)\n",
    "\t\trow_copy[-1] = None\n",
    "\t\ttest_set.append(row_copy)\n",
    "\tpredicted = algorithm(train, test_set, *args)\n",
    "\tactual = [row[-1] for row in test]\n",
    "\trmse = rmse_metric(actual, predicted)\n",
    "\treturn rmse\n",
    "\n",
    "# Calculate the mean value of a list of numbers\n",
    "def mean(values):\n",
    "\treturn sum(values) / float(len(values))\n",
    "\n",
    "# Calculate covariance between x and y\n",
    "def covariance(x, mean_x, y, mean_y):\n",
    "\tcovar = 0.0\n",
    "\tfor i in range(len(x)):\n",
    "\t\tcovar += (x[i] - mean_x) * (y[i] - mean_y)\n",
    "\treturn covar\n",
    "\n",
    "# Calculate the variance of a list of numbers\n",
    "def variance(values, mean):\n",
    "\treturn sum([(x-mean)**2 for x in values])\n",
    "\n",
    "# Calculate coefficients\n",
    "def coefficients(dataset):\n",
    "\tx = [row[0] for row in dataset]\n",
    "\ty = [row[1] for row in dataset]\n",
    "\tx_mean, y_mean = mean(x), mean(y)\n",
    "\tb1 = covariance(x, x_mean, y, y_mean) / variance(x, x_mean)\n",
    "\tb0 = y_mean - b1 * x_mean\n",
    "\treturn [b0, b1]\n",
    "\n",
    "# Simple linear regression algorithm\n",
    "def simple_linear_regression(train, test):\n",
    "\tpredictions = list()\n",
    "\tb0, b1 = coefficients(train)\n",
    "\tfor row in test:\n",
    "\t\tyhat = b0 + b1 * row[0]\n",
    "\t\tpredictions.append(yhat)\n",
    "\treturn predictions\n",
    "\n",
    "# Simple linear regression on insurance dataset\n",
    "seed(1)\n",
    "# load and prepare data\n",
    "filename = 'insurance.csv'\n",
    "dataset = load_csv(filename)\n",
    "for i in range(len(dataset[0])):\n",
    "\tstr_column_to_float(dataset, i)\n",
    "# evaluate algorithm\n",
    "split = 0.6\n",
    "rmse = evaluate_algorithm(dataset, simple_linear_regression, split)\n",
    "print('RMSE: %.3f' % (rmse))"
   ]
  }
 ],
 "metadata": {
  "kernelspec": {
   "display_name": "Python 3 (ipykernel)",
   "language": "python",
   "name": "python3"
  },
  "language_info": {
   "codemirror_mode": {
    "name": "ipython",
    "version": 3
   },
   "file_extension": ".py",
   "mimetype": "text/x-python",
   "name": "python",
   "nbconvert_exporter": "python",
   "pygments_lexer": "ipython3",
   "version": "3.9.12"
  }
 },
 "nbformat": 4,
 "nbformat_minor": 5
}
